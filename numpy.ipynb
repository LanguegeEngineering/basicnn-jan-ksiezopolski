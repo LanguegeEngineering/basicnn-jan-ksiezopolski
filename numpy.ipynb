{
 "cells": [
  {
   "cell_type": "code",
   "execution_count": 5,
   "metadata": {
    "colab": {},
    "colab_type": "code",
    "id": "D0U8H6t8ZC37"
   },
   "outputs": [
    {
     "ename": "ModuleNotFoundError",
     "evalue": "No module named 'seaborn'",
     "output_type": "error",
     "traceback": [
      "\u001b[0;31m---------------------------------------------------------------------------\u001b[0m",
      "\u001b[0;31mModuleNotFoundError\u001b[0m                       Traceback (most recent call last)",
      "\u001b[0;32m<ipython-input-5-6f477838ac7f>\u001b[0m in \u001b[0;36m<module>\u001b[0;34m\u001b[0m\n\u001b[0;32m----> 1\u001b[0;31m \u001b[0;32mimport\u001b[0m \u001b[0mseaborn\u001b[0m\u001b[0;34m\u001b[0m\u001b[0;34m\u001b[0m\u001b[0m\n\u001b[0m",
      "\u001b[0;31mModuleNotFoundError\u001b[0m: No module named 'seaborn'"
     ]
    }
   ],
   "source": [
    "import seaborn"
   ]
  },
  {
   "cell_type": "markdown",
   "metadata": {
    "colab_type": "text",
    "id": "WQoCKMOFZKnv"
   },
   "source": [
    "Numpy to biblioteka służąca do operacji na macierzach "
   ]
  },
  {
   "cell_type": "code",
   "execution_count": 0,
   "metadata": {
    "colab": {},
    "colab_type": "code",
    "id": "4o0xdDaPZMg9"
   },
   "outputs": [],
   "source": [
    "a = np.arange(15).reshape(3, 5)\n",
    "print(a)\n",
    "\n",
    "print(\"a size is {}\".format(a.shape))\n",
    "print('\\n')\n",
    "\n",
    "b = a.reshape(5,3)\n",
    "print(b)\n",
    "print('\\n')\n",
    "\n",
    "\n",
    "zero_matrix = np.zeros((2,3))\n",
    "print(zero_matrix)\n",
    "print('\\n')\n",
    "one_matrix = np.ones((4,2))\n",
    "print(one_matrix)\n"
   ]
  },
  {
   "cell_type": "markdown",
   "metadata": {
    "colab_type": "text",
    "id": "OqS-VQXDZPHk"
   },
   "source": [
    "Podstawowe operacje na macierzach:"
   ]
  },
  {
   "cell_type": "code",
   "execution_count": 0,
   "metadata": {
    "colab": {},
    "colab_type": "code",
    "id": "_Q0Pg5ObZRSk"
   },
   "outputs": [],
   "source": [
    "A = np.array( [[1,1],\n",
    "               [0,1]] )\n",
    "print(\"A\")\n",
    "print(A)\n",
    "print('\\n')\n",
    "\n",
    "B = np.array( [[2,0],\n",
    "               [3,4]] )\n",
    "\n",
    "print(\"B\")\n",
    "print(B)\n",
    "print('\\n')\n",
    "\n",
    "print('B\\'')\n",
    "print(B.T)\n",
    "print('\\n')\n",
    "\n",
    "print(\"A * B\")\n",
    "print(A * B)\n",
    "print('\\n')\n",
    "\n",
    "print(\"A x B\")\n",
    "print(A.dot(B))\n",
    "print('\\n')\n",
    "\n",
    "print(\"B x A\")\n",
    "print(B.dot(A))\n",
    "print('\\n')\n",
    "\n",
    "print(\"A - B\")\n",
    "print(A-B)\n",
    "print('\\n')\n",
    "\n",
    "print(\"A + B\")\n",
    "print(A+B)\n",
    "print('\\n')\n",
    "\n",
    "print(\"A + 3\")\n",
    "print(A+3)\n",
    "print('\\n')\n",
    "\n",
    "print(\"B^2\")\n",
    "print(B*2)\n",
    "print('\\n')"
   ]
  },
  {
   "cell_type": "markdown",
   "metadata": {
    "colab_type": "text",
    "id": "6zpB125fZVYP"
   },
   "source": [
    "### Zadanie\n",
    "\n",
    "Korzystając z powyższych informacji  i mnożenia macieży skonstruować \"tabliczkę mnożenia\"."
   ]
  },
  {
   "cell_type": "code",
   "execution_count": 0,
   "metadata": {
    "colab": {},
    "colab_type": "code",
    "id": "kYLiTkm8WGx0"
   },
   "outputs": [],
   "source": []
  }
 ],
 "metadata": {
  "colab": {
   "name": "numpy.ipynb",
   "provenance": []
  },
  "kernelspec": {
   "display_name": "Python 3",
   "language": "python",
   "name": "python3"
  },
  "language_info": {
   "codemirror_mode": {
    "name": "ipython",
    "version": 3
   },
   "file_extension": ".py",
   "mimetype": "text/x-python",
   "name": "python",
   "nbconvert_exporter": "python",
   "pygments_lexer": "ipython3",
   "version": "3.8.1"
  }
 },
 "nbformat": 4,
 "nbformat_minor": 1
}
