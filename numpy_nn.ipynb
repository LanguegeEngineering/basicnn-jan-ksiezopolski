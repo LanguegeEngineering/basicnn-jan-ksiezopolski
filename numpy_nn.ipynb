{
 "cells": [
  {
   "cell_type": "markdown",
   "metadata": {
    "colab_type": "text",
    "id": "Z4tcQ2V1fhT8"
   },
   "source": [
    "### Zadania\n",
    "\n",
    "1. Dodać iteracje do treningu\n",
    "2. Dodać rysunek zmian strat w kolejnych iteracjach"
   ]
  },
  {
   "cell_type": "code",
   "execution_count": 1,
   "metadata": {
    "colab": {},
    "colab_type": "code",
    "id": "IqgyOy4Qso7v"
   },
   "outputs": [
    {
     "name": "stdout",
     "output_type": "stream",
     "text": [
      "(16, 4)\n"
     ]
    }
   ],
   "source": [
    "import numpy as np\n",
    "import matplotlib.pyplot as plt\n",
    "\n",
    "# N is batch size; D_in is input dimension;\n",
    "# H is hidden dimension; D_out is output dimension.\n",
    "N, D_in, H, D_out = 16, 4, 0, 1\n",
    "\n",
    "# Create random input and output data\n",
    "\n",
    "x_numpy = np.array(    [[0., 0., 0., 1.],\n",
    "                        [1., 0., 0., 1.],\n",
    "                        [0., 1., 0., 1.],\n",
    "                        [0., 0., 1., 1.],\n",
    "                        [1., 1., 0., 1.],\n",
    "                        [1., 0., 1., 1.],\n",
    "                        [0., 1., 1., 1.],\n",
    "                        [1., 1., 1., 1.],\n",
    "                        [0., 0., 0., 0.],\n",
    "                        [1., 0., 0., 0.],\n",
    "                        [0., 1., 0., 0.],\n",
    "                        [0., 0., 1., 0.],\n",
    "                        [1., 1., 0., 0.],\n",
    "                        [1., 0., 1., 0.],\n",
    "                        [0., 1., 1., 0.],\n",
    "                        [1., 1., 1., 0.]])\n",
    "\n",
    "print(x_numpy.shape)"
   ]
  },
  {
   "cell_type": "code",
   "execution_count": 2,
   "metadata": {
    "colab": {},
    "colab_type": "code",
    "id": "HyAwvfvmSV4l"
   },
   "outputs": [
    {
     "name": "stdout",
     "output_type": "stream",
     "text": [
      "(16, 1)\n"
     ]
    }
   ],
   "source": [
    "y_numpy = np.array(     [[1.],\n",
    "                         [1.],\n",
    "                         [1.],\n",
    "                         [1.],\n",
    "                         [1.],\n",
    "                         [1.],\n",
    "                         [1.],\n",
    "                         [1.],\n",
    "                         [0.],\n",
    "                         [0.],\n",
    "                         [0.],\n",
    "                         [0.],\n",
    "                         [0.],\n",
    "                         [0.],\n",
    "                         [0.],\n",
    "                         [0.]])\n",
    "\n",
    "\n",
    "print(y_numpy.shape)"
   ]
  },
  {
   "cell_type": "code",
   "execution_count": 3,
   "metadata": {
    "colab": {},
    "colab_type": "code",
    "id": "7YJNoruLSXgk"
   },
   "outputs": [
    {
     "name": "stdout",
     "output_type": "stream",
     "text": [
      "[[ 0.59234329]\n",
      " [-0.90115007]\n",
      " [ 0.35086997]\n",
      " [ 0.73236503]]\n",
      "(4, 1)\n"
     ]
    }
   ],
   "source": [
    "# Randomly initialize weights\n",
    "w = np.random.randn(D_in, D_out)\n",
    "\n",
    "print(w)\n",
    "print(w.shape)"
   ]
  },
  {
   "cell_type": "code",
   "execution_count": 4,
   "metadata": {
    "colab": {},
    "colab_type": "code",
    "id": "HPFz65FiPKmn"
   },
   "outputs": [],
   "source": [
    "learning_rate = 0.05\n",
    "loss_list = []\n",
    "\n"
   ]
  },
  {
   "cell_type": "code",
   "execution_count": 5,
   "metadata": {
    "colab": {},
    "colab_type": "code",
    "id": "NNm6egQBaLdy"
   },
   "outputs": [
    {
     "name": "stdout",
     "output_type": "stream",
     "text": [
      "[[ 0.73236503]\n",
      " [ 1.32470832]\n",
      " [-0.16878503]\n",
      " [ 1.08323501]\n",
      " [ 0.42355826]\n",
      " [ 1.67557829]\n",
      " [ 0.18208494]\n",
      " [ 0.77442823]\n",
      " [ 0.        ]\n",
      " [ 0.59234329]\n",
      " [-0.90115007]\n",
      " [ 0.35086997]\n",
      " [-0.30880678]\n",
      " [ 0.94321326]\n",
      " [-0.55028009]\n",
      " [ 0.0420632 ]]\n"
     ]
    }
   ],
   "source": [
    "# Forward pass: compute predicted y\n",
    "y_pred = x_numpy.dot(w)\n",
    "print(y_pred)\n"
   ]
  },
  {
   "cell_type": "code",
   "execution_count": 6,
   "metadata": {
    "colab": {},
    "colab_type": "code",
    "id": "pUWfDOFtSgIm"
   },
   "outputs": [
    {
     "name": "stdout",
     "output_type": "stream",
     "text": [
      "[[ 0.44563468]\n",
      " [-0.45046133]\n",
      " [ 0.30075069]\n",
      " [ 0.92964773]]\n"
     ]
    }
   ],
   "source": [
    "# Compute and print loss\n",
    "loss = np.square(y_pred - y_numpy).sum()\n",
    "\n",
    "# Backprop to compute gradients of w1 and w2 with respect to loss\n",
    "grad_y_pred = 2.0 * (y_pred - y_numpy)\n",
    "grad_w = x_numpy.T.dot(grad_y_pred)\n",
    "\n",
    "# Update weights\n",
    "w = w - learning_rate * grad_w\n",
    "print(w)"
   ]
  },
  {
   "cell_type": "code",
   "execution_count": 7,
   "metadata": {
    "colab": {},
    "colab_type": "code",
    "id": "KBRbjAooSzs3"
   },
   "outputs": [],
   "source": [
    "n_epochs = 100\n",
    "\n",
    "for i in range(n_epochs):\n",
    "    y_pred = x_numpy.dot(w)    \n",
    "    loss = np.square(y_pred - y_numpy).sum()\n",
    "    loss_list.append(loss)\n",
    "    grad_y_pred = 2.0 * (y_pred - y_numpy)\n",
    "    grad_w = x_numpy.T.dot(grad_y_pred)\n",
    "\n",
    "    # Update weights\n",
    "    w = w - learning_rate * grad_w\n",
    "    \n"
   ]
  },
  {
   "cell_type": "code",
   "execution_count": 8,
   "metadata": {
    "colab": {},
    "colab_type": "code",
    "id": "heXJqSquaVh4"
   },
   "outputs": [
    {
     "data": {
      "image/png": "[encoded data removed]",
      "text/plain": [
       "<Figure size 432x288 with 1 Axes>"
      ]
     },
     "metadata": {
      "needs_background": "light"
     },
     "output_type": "display_data"
    }
   ],
   "source": [
    "plt.plot(loss_list, label = 'loss')\n",
    "plt.legend()\n",
    "plt.show()"
   ]
  },
  {
   "cell_type": "code",
   "execution_count": null,
   "metadata": {
    "colab": {},
    "colab_type": "code",
    "id": "j-WQQA9COshP"
   },
   "outputs": [],
   "source": []
  }
 ],
 "metadata": {
  "colab": {
   "name": "numpy_nn.ipynb",
   "provenance": []
  },
  "kernelspec": {
   "display_name": "Python 3",
   "language": "python",
   "name": "python3"
  },
  "language_info": {
   "codemirror_mode": {
    "name": "ipython",
    "version": 3
   },
   "file_extension": ".py",
   "mimetype": "text/x-python",
   "name": "python",
   "nbconvert_exporter": "python",
   "pygments_lexer": "ipython3",
   "version": "3.8.1"
  }
 },
 "nbformat": 4,
 "nbformat_minor": 1
}
