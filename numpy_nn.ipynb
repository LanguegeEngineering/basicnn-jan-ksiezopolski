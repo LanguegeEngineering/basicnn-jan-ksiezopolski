{
 "cells": [
  {
   "cell_type": "markdown",
   "metadata": {
    "colab_type": "text",
    "id": "Z4tcQ2V1fhT8"
   },
   "source": [
    "### Zadania\n",
    "\n",
    "1. Dodać iteracje do treningu\n",
    "2. Dodać rysunek zmian strat w kolejnych iteracjach"
   ]
  },
  {
   "cell_type": "code",
   "execution_count": 1,
   "metadata": {
    "colab": {},
    "colab_type": "code",
    "id": "IqgyOy4Qso7v"
   },
   "outputs": [
    {
     "ename": "AttributeError",
     "evalue": "partially initialized module 'numpy' has no attribute 'arange' (most likely due to a circular import)",
     "output_type": "error",
     "traceback": [
      "\u001b[0;31m---------------------------------------------------------------------------\u001b[0m",
      "\u001b[0;31mAttributeError\u001b[0m                            Traceback (most recent call last)",
      "\u001b[0;32m<ipython-input-1-c0bc93d252a4>\u001b[0m in \u001b[0;36m<module>\u001b[0;34m\u001b[0m\n\u001b[0;32m----> 1\u001b[0;31m \u001b[0;32mimport\u001b[0m \u001b[0mnumpy\u001b[0m \u001b[0;32mas\u001b[0m \u001b[0mnp\u001b[0m\u001b[0;34m\u001b[0m\u001b[0;34m\u001b[0m\u001b[0m\n\u001b[0m\u001b[1;32m      2\u001b[0m \u001b[0;32mimport\u001b[0m \u001b[0mmatplotlib\u001b[0m\u001b[0;34m.\u001b[0m\u001b[0mpyplot\u001b[0m \u001b[0;32mas\u001b[0m \u001b[0mplt\u001b[0m\u001b[0;34m\u001b[0m\u001b[0;34m\u001b[0m\u001b[0m\n\u001b[1;32m      3\u001b[0m \u001b[0;34m\u001b[0m\u001b[0m\n\u001b[1;32m      4\u001b[0m \u001b[0;31m# N is batch size; D_in is input dimension;\u001b[0m\u001b[0;34m\u001b[0m\u001b[0;34m\u001b[0m\u001b[0;34m\u001b[0m\u001b[0m\n\u001b[1;32m      5\u001b[0m \u001b[0;31m# H is hidden dimension; D_out is output dimension.\u001b[0m\u001b[0;34m\u001b[0m\u001b[0;34m\u001b[0m\u001b[0;34m\u001b[0m\u001b[0m\n",
      "\u001b[0;32m~/Programistyczne/basicnn-jan-ksiezopolski/numpy.py\u001b[0m in \u001b[0;36m<module>\u001b[0;34m\u001b[0m\n\u001b[1;32m     12\u001b[0m \u001b[0;34m\"\"\"Numpy to biblioteka służąca do operacji na macierzach\"\"\"\u001b[0m\u001b[0;34m\u001b[0m\u001b[0;34m\u001b[0m\u001b[0m\n\u001b[1;32m     13\u001b[0m \u001b[0;34m\u001b[0m\u001b[0m\n\u001b[0;32m---> 14\u001b[0;31m \u001b[0ma\u001b[0m \u001b[0;34m=\u001b[0m \u001b[0mnp\u001b[0m\u001b[0;34m.\u001b[0m\u001b[0marange\u001b[0m\u001b[0;34m(\u001b[0m\u001b[0;36m15\u001b[0m\u001b[0;34m)\u001b[0m\u001b[0;34m.\u001b[0m\u001b[0mreshape\u001b[0m\u001b[0;34m(\u001b[0m\u001b[0;36m3\u001b[0m\u001b[0;34m,\u001b[0m \u001b[0;36m5\u001b[0m\u001b[0;34m)\u001b[0m\u001b[0;34m\u001b[0m\u001b[0;34m\u001b[0m\u001b[0m\n\u001b[0m\u001b[1;32m     15\u001b[0m \u001b[0mprint\u001b[0m\u001b[0;34m(\u001b[0m\u001b[0ma\u001b[0m\u001b[0;34m)\u001b[0m\u001b[0;34m\u001b[0m\u001b[0;34m\u001b[0m\u001b[0m\n\u001b[1;32m     16\u001b[0m \u001b[0;34m\u001b[0m\u001b[0m\n",
      "\u001b[0;31mAttributeError\u001b[0m: partially initialized module 'numpy' has no attribute 'arange' (most likely due to a circular import)"
     ]
    }
   ],
   "source": [
    "import numpy as np\n",
    "import matplotlib.pyplot as plt\n",
    "\n",
    "# N is batch size; D_in is input dimension;\n",
    "# H is hidden dimension; D_out is output dimension.\n",
    "N, D_in, H, D_out = 16, 4, 0, 1\n",
    "\n",
    "# Create random input and output data\n",
    "\n",
    "x_numpy = np.array(    [[0., 0., 0., 1.],\n",
    "                        [1., 0., 0., 1.],\n",
    "                        [0., 1., 0., 1.],\n",
    "                        [0., 0., 1., 1.],\n",
    "                        [1., 1., 0., 1.],\n",
    "                        [1., 0., 1., 1.],\n",
    "                        [0., 1., 1., 1.],\n",
    "                        [1., 1., 1., 1.],\n",
    "                        [0., 0., 0., 0.],\n",
    "                        [1., 0., 0., 0.],\n",
    "                        [0., 1., 0., 0.],\n",
    "                        [0., 0., 1., 0.],\n",
    "                        [1., 1., 0., 0.],\n",
    "                        [1., 0., 1., 0.],\n",
    "                        [0., 1., 1., 0.],\n",
    "                        [1., 1., 1., 0.]])\n",
    "\n",
    "print(x_numpy.shape)"
   ]
  },
  {
   "cell_type": "code",
   "execution_count": 0,
   "metadata": {
    "colab": {},
    "colab_type": "code",
    "id": "HyAwvfvmSV4l"
   },
   "outputs": [],
   "source": [
    "y_numpy = np.array(     [[1.],\n",
    "                         [1.],\n",
    "                         [1.],\n",
    "                         [1.],\n",
    "                         [1.],\n",
    "                         [1.],\n",
    "                         [1.],\n",
    "                         [1.],\n",
    "                         [0.],\n",
    "                         [0.],\n",
    "                         [0.],\n",
    "                         [0.],\n",
    "                         [0.],\n",
    "                         [0.],\n",
    "                         [0.],\n",
    "                         [0.]])\n",
    "\n",
    "\n",
    "print(y_numpy.shape)"
   ]
  },
  {
   "cell_type": "code",
   "execution_count": 0,
   "metadata": {
    "colab": {},
    "colab_type": "code",
    "id": "7YJNoruLSXgk"
   },
   "outputs": [],
   "source": [
    "# Randomly initialize weights\n",
    "w = np.random.randn(D_in, D_out)\n",
    "\n",
    "print(w)\n",
    "print(w.shape)"
   ]
  },
  {
   "cell_type": "code",
   "execution_count": 0,
   "metadata": {
    "colab": {},
    "colab_type": "code",
    "id": "HPFz65FiPKmn"
   },
   "outputs": [],
   "source": [
    "learning_rate = 1e-5\n",
    "loss_list = []\n",
    "\n"
   ]
  },
  {
   "cell_type": "code",
   "execution_count": 0,
   "metadata": {
    "colab": {},
    "colab_type": "code",
    "id": "NNm6egQBaLdy"
   },
   "outputs": [],
   "source": [
    "# Forward pass: compute predicted y\n",
    "y_pred = x_numpy.dot(w)\n",
    "print(y_pred)\n"
   ]
  },
  {
   "cell_type": "code",
   "execution_count": 0,
   "metadata": {
    "colab": {},
    "colab_type": "code",
    "id": "pUWfDOFtSgIm"
   },
   "outputs": [],
   "source": [
    "# Compute and print loss\n",
    "loss = np.square(y_pred - y_numpy).sum()\n",
    "\n",
    "# Backprop to compute gradients of w1 and w2 with respect to loss\n",
    "grad_y_pred = 2.0 * (y_pred - y_numpy)\n",
    "grad_w = x_numpy.T.dot(grad_y_pred)\n",
    "\n",
    "# Update weights\n",
    "w = w - learning_rate * grad_w\n",
    "print(w)"
   ]
  },
  {
   "cell_type": "code",
   "execution_count": 0,
   "metadata": {
    "colab": {},
    "colab_type": "code",
    "id": "KBRbjAooSzs3"
   },
   "outputs": [],
   "source": [
    "n_epochs = 1000\n",
    "for i in range(n_epochschs):\n",
    "    y_pred = x_numpy.dot(w)\n",
    "    loss = np.square(y_pred - y_numpy).sum()\n",
    "\n",
    "    "
   ]
  },
  {
   "cell_type": "code",
   "execution_count": 0,
   "metadata": {
    "colab": {},
    "colab_type": "code",
    "id": "heXJqSquaVh4"
   },
   "outputs": [],
   "source": [
    "plt.plot(loss_list, label = 'loss')\n",
    "plt.legend()\n",
    "plt.show()"
   ]
  },
  {
   "cell_type": "code",
   "execution_count": 0,
   "metadata": {
    "colab": {},
    "colab_type": "code",
    "id": "j-WQQA9COshP"
   },
   "outputs": [],
   "source": []
  }
 ],
 "metadata": {
  "colab": {
   "name": "numpy_nn.ipynb",
   "provenance": []
  },
  "kernelspec": {
   "display_name": "Python 3",
   "language": "python",
   "name": "python3"
  },
  "language_info": {
   "codemirror_mode": {
    "name": "ipython",
    "version": 3
   },
   "file_extension": ".py",
   "mimetype": "text/x-python",
   "name": "python",
   "nbconvert_exporter": "python",
   "pygments_lexer": "ipython3",
   "version": "3.8.1"
  }
 },
 "nbformat": 4,
 "nbformat_minor": 1
}
