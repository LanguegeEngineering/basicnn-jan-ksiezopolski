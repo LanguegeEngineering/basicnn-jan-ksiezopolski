{
  "nbformat": 4,
  "nbformat_minor": 0,
  "metadata": {
    "colab": {
      "name": "Copy of first_pytorch.ipynb",
      "provenance": []
    },
    "kernelspec": {
      "name": "python3",
      "display_name": "Python 3"
    },
    "accelerator": "GPU"
  },
  "cells": [
    {
      "cell_type": "markdown",
      "metadata": {
        "id": "IyHwxMlFiRvv",
        "colab_type": "text"
      },
      "source": [
        "### Zadania\n",
        "\n",
        "1. Dodać GPU"
      ]
    },
    {
      "cell_type": "code",
      "metadata": {
        "id": "H33pSMkXf68U",
        "colab_type": "code",
        "outputId": "6e55be34-488d-4c12-9909-b1ce4a608c42",
        "colab": {
          "base_uri": "https://localhost:8080/",
          "height": 295
        }
      },
      "source": [
        "import torch\n",
        "import numpy as np\n",
        "import matplotlib.pyplot as plt\n",
        "dtype = torch.float\n",
        "device = torch.device(\"cuda\")\n",
        "\n",
        "N, D_in, H, D_out = 16, 4, 0, 1\n",
        "\n",
        "# Create random input and output data\n",
        "\n",
        "x_numpy = np.array(    [[0., 0., 0., 1.],\n",
        "                        [1., 0., 0., 1.],\n",
        "                        [0., 1., 0., 1.],\n",
        "                        [0., 0., 1., 1.],\n",
        "                        [1., 1., 0., 1.],\n",
        "                        [1., 0., 1., 1.],\n",
        "                        [0., 1., 1., 1.],\n",
        "                        [1., 1., 1., 1.],\n",
        "                        [0., 0., 0., 0.],\n",
        "                        [1., 0., 0., 0.],\n",
        "                        [0., 1., 0., 0.],\n",
        "                        [0., 0., 1., 0.],\n",
        "                        [1., 1., 0., 0.],\n",
        "                        [1., 0., 1., 0.],\n",
        "                        [0., 1., 1., 0.],\n",
        "                        [1., 1., 1., 0.]])\n",
        "\n",
        "x = torch.from_numpy(x_numpy).float()\n",
        "print(x)\n"
      ],
      "execution_count": 0,
      "outputs": [
        {
          "output_type": "stream",
          "text": [
            "tensor([[0., 0., 0., 1.],\n",
            "        [1., 0., 0., 1.],\n",
            "        [0., 1., 0., 1.],\n",
            "        [0., 0., 1., 1.],\n",
            "        [1., 1., 0., 1.],\n",
            "        [1., 0., 1., 1.],\n",
            "        [0., 1., 1., 1.],\n",
            "        [1., 1., 1., 1.],\n",
            "        [0., 0., 0., 0.],\n",
            "        [1., 0., 0., 0.],\n",
            "        [0., 1., 0., 0.],\n",
            "        [0., 0., 1., 0.],\n",
            "        [1., 1., 0., 0.],\n",
            "        [1., 0., 1., 0.],\n",
            "        [0., 1., 1., 0.],\n",
            "        [1., 1., 1., 0.]])\n"
          ],
          "name": "stdout"
        }
      ]
    },
    {
      "cell_type": "code",
      "metadata": {
        "id": "hOCO9CINiel9",
        "colab_type": "code",
        "colab": {}
      },
      "source": [
        "y_numpy = np.array(     [[1.],\n",
        "                         [1.],\n",
        "                         [1.],\n",
        "                         [1.],\n",
        "                         [1.],\n",
        "                         [1.],\n",
        "                         [1.],\n",
        "                         [1.],\n",
        "                         [0.],\n",
        "                         [0.],\n",
        "                         [0.],\n",
        "                         [0.],\n",
        "                         [0.],\n",
        "                         [0.],\n",
        "                         [0.],\n",
        "                         [0.]])\n",
        "\n",
        "y = torch.from_numpy(y_numpy).float()"
      ],
      "execution_count": 0,
      "outputs": []
    },
    {
      "cell_type": "code",
      "metadata": {
        "id": "NhbWLwe3j8Dj",
        "colab_type": "code",
        "outputId": "3a55c910-f989-459d-8335-43dcb818fb0a",
        "colab": {
          "base_uri": "https://localhost:8080/",
          "height": 86
        }
      },
      "source": [
        "w = torch.randn(D_in, D_out, device=device, dtype=dtype, requires_grad=True)\n",
        "print(w)\n"
      ],
      "execution_count": 0,
      "outputs": [
        {
          "output_type": "stream",
          "text": [
            "tensor([[ 0.1245],\n",
            "        [ 0.2013],\n",
            "        [-1.2604],\n",
            "        [-0.3318]], requires_grad=True)\n"
          ],
          "name": "stdout"
        }
      ]
    },
    {
      "cell_type": "code",
      "metadata": {
        "id": "OiVljZvUh8PH",
        "colab_type": "code",
        "colab": {}
      },
      "source": [
        "learning_rate = 0.03\n",
        "loss_list = []\n",
        "n_epochs = 20\n",
        "for t in range(n_epochs):\n",
        "  y_pred = x.mm(w)\n",
        "\n",
        "  loss = (y_pred - y).pow(2).sum()\n",
        "  loss_list.append(loss.item())\n",
        "  loss.backward()\n",
        "\n",
        "  with torch.no_grad():\n",
        "    w -= learning_rate * w.grad\n",
        "    w.grad.zero_()"
      ],
      "execution_count": 0,
      "outputs": []
    },
    {
      "cell_type": "code",
      "metadata": {
        "id": "T63x3fY2ls24",
        "colab_type": "code",
        "outputId": "71800721-ac1b-4936-fbb9-b2b3890dff7b",
        "colab": {
          "base_uri": "https://localhost:8080/",
          "height": 265
        }
      },
      "source": [
        "plt.plot(loss_list, label = 'loss')\n",
        "plt.legend()\n",
        "plt.show()"
      ],
      "execution_count": 0,
      "outputs": [
        {
          "output_type": "display_data",
          "data": {
            "image/png": "[encoded data removed]",
            "text/plain": [
              "<Figure size 432x288 with 1 Axes>"
            ]
          },
          "metadata": {
            "tags": []
          }
        }
      ]
    },
    {
      "cell_type": "code",
      "metadata": {
        "id": "Khsdv_l6od5-",
        "colab_type": "code",
        "colab": {}
      },
      "source": [
        ""
      ],
      "execution_count": 0,
      "outputs": []
    }
  ]
}